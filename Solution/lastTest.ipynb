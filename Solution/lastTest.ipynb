{
 "cells": [
  {
   "cell_type": "code",
   "execution_count": null,
   "metadata": {},
   "outputs": [
    {
     "evalue": "Error: Failed to connect to Jupyter notebook. \r\nhttp://localhost:8888/\r\nError: Invalid response: 500 Internal Server Error",
     "output_type": "error"
    }
   ],
   "source": [
    "from PIL import Image\n",
    "import pytesseract\n",
    "import cv2\n",
    "from glob import glob\n",
    "import glob\n",
    "\n",
    "path = \"user\\Desktop\\data-ology\\images\"\n",
    "nutList = [\"Carbohydrate\",\"Energy\",\"energy\",\"Total Fat\",\"total Fat\",\"Total fat\",\"total fat\",\"saturated fat\",\"Saturated Fat\",\"saturated Fat\",\"Saturated fat\", \"monounsaturated fat\",\"monounsaturated Fat\",\n",
    "\"Monounsaturated Fat\",\"Monounsaturated fat\",\"polysaturated fat\",\"Polysaturated Fat\",\"Polysaturated fat\",\"Polysaturated Fat\",\"trans fat\",\"trans Fat\",\"Trans Fat\",\"Trans fat\",\"cholestrol\",\"Cholestrol\",\"sodium\",\n",
    "\"Sodium\",\"Total Carbohydrate\",\"Total carbohydrate\",\"total Carbohydrate\",\"total carbohydrate\",\"dietary fiber\",\"Dietary fiber\",\"dietary Fiber\",\"Dietary Fiber\",\"sugar\", \"Sugar\",\"protein\",\n",
    "\"Protein\",\"Vitamin C\",\"Vitamin c\",\"vitamin C\",\"vitamin c\",\"Calcium\",\"iron\",\"Iron\",\"calories\",\"Calories\",\"total sugars\",\"Total Sugars\",\"Total sugars\",\"total Sugars\", \"potassium\",\"Potassium\",\"Fat\",\n",
    "\"fat\",\"Saturated\",\"saturated\",\"Trans\",\"trans\",\"carbohydrate\",\"Carbohydrate\",\"sugars\",\"Sugars\", \"added sugars\",\"added sugar\",\"Added Sugar\",\n",
    "\"Added sugar\",\"added Sugar\",\"salt\",\"Salt\",\"vitamin d\",\"vitamin D\",\"Vitamin d\",\"Vitamin D\",\"vitamin a\",\"vitamin A\",\"Vitamin a\",\"Vitamin A\" ]\n",
    "dataset = \"\"\n",
    "\n",
    "for file in glob.glob(path):\n",
    "    image_id=\"\"\n",
    "    counter = 0\n",
    "    for position, name in enumerate(file):\n",
    "        if \"/\" == file[position] :\n",
    "            counter += 1\n",
    "            if counter == 6:\n",
    "                image_id = file[(position+1):(len(file)-4)]\n",
    "            \n",
    "    img = Image.open(file)\n",
    "    engText1 = pytesseract.image_to_string(img, lang='eng')\n",
    "    textString = engText1.encode('utf-8')\n",
    "    s = textString.split()\n",
    "\n",
    "    #extraction\n",
    "    for position1,name1 in enumerate(s):\n",
    "        for y in range(len(nutList)):\n",
    "            if name1 == nutList[y]:\n",
    "                txt = \"\\n\" + image_id + ',' + s[position1] + ',' + \"english\"\n",
    "                dataset = dataset + txt\n",
    "                print(dataset)"
   ]
  },
  {
   "cell_type": "code",
   "execution_count": null,
   "metadata": {},
   "outputs": [],
   "source": []
  },
  {
   "cell_type": "code",
   "execution_count": null,
   "metadata": {},
   "outputs": [],
   "source": []
  }
 ],
 "metadata": {
  "kernelspec": {
   "display_name": "Python 3",
   "language": "python",
   "name": "python3"
  },
  "language_info": {
   "codemirror_mode": {
    "name": "ipython",
    "version": 3
   },
   "file_extension": ".py",
   "mimetype": "text/x-python",
   "name": "python",
   "nbconvert_exporter": "python",
   "pygments_lexer": "ipython3",
   "version": "3.7.4"
  }
 },
 "nbformat": 4,
 "nbformat_minor": 2
}